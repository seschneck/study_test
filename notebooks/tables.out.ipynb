{
 "cells": [
  {
   "cell_type": "markdown",
   "metadata": {},
   "source": [
    "# Tables\n",
    "\n",
    "John Curtin\n",
    "\n",
    "Need to code out some examples of making tables using kableExtra and built in data\n",
    "\n",
    "### Note\n",
    "\n",
    "Really, this table does not contain HTML anymore"
   ],
   "id": "b6cd93de-2c5f-4c63-ac4f-df4ff0d2431b"
  }
 ],
 "nbformat": 4,
 "nbformat_minor": 5,
 "metadata": {}
}
