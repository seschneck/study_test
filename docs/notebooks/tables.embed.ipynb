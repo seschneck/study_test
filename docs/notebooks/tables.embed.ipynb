{
 "cells": [
  {
   "cell_type": "markdown",
   "metadata": {},
   "source": [
    "# Tables\n",
    "\n",
    "John Curtin\n",
    "\n",
    "Need to code out some examples of making tables using kableExtra and built in data\n",
    "\n",
    "### Note\n",
    "\n",
    "Really, this table does not contain HTML anymore"
   ],
   "id": "6c06bcbb-021d-4710-860c-ebf7c8beca5a"
  }
 ],
 "nbformat": 4,
 "nbformat_minor": 5,
 "metadata": {}
}
