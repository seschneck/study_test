{
 "cells": [
  {
   "cell_type": "markdown",
   "metadata": {},
   "source": [
    "# Tables\n",
    "\n",
    "John Curtin\n",
    "\n",
    "Need to code out some examples of making tables using kableExtra and built in data\n",
    "\n",
    "### Note\n",
    "\n",
    "Really, this table does not contain HTML anymore"
   ],
   "id": "e9d07024-4074-412e-9f5f-c5b0853e7701"
  }
 ],
 "nbformat": 4,
 "nbformat_minor": 5,
 "metadata": {}
}
